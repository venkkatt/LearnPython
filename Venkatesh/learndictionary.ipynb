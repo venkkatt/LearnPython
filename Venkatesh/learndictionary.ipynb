{
 "cells": [
  {
   "cell_type": "code",
   "execution_count": 15,
   "metadata": {},
   "outputs": [
    {
     "name": "stdout",
     "output_type": "stream",
     "text": [
      "<class 'dict'>\n",
      "{'name': 'mani', 'color': 'whitish', 'breed': 'human', 'legs': '2', 'age': '5'}\n",
      "length of student dictionary 7\n",
      "type of skill is <class 'list'>\n",
      "{'first_name': 'Asabeneh', 'last_name': 'Yetayeh', 'age': 250, 'country': 'Finland', 'is_marred': True, 'skills': ['JavaScript', 'React', 'Node', 'MongoDB', 'Python', 'dondon'], 'address': {'street': 'Space street', 'zipcode': '02210'}}\n",
      "dict_keys(['first_name', 'last_name', 'age', 'country', 'is_marred', 'skills', 'address'])\n",
      "dict_values(['Asabeneh', 'Yetayeh', 250, 'Finland', True, ['JavaScript', 'React', 'Node', 'MongoDB', 'Python', 'dondon'], {'street': 'Space street', 'zipcode': '02210'}])\n",
      "dict_items([('first_name', 'Asabeneh'), ('last_name', 'Yetayeh'), ('age', 250), ('country', 'Finland'), ('is_marred', True), ('skills', ['JavaScript', 'React', 'Node', 'MongoDB', 'Python', 'dondon']), ('address', {'street': 'Space street', 'zipcode': '02210'})])\n",
      "{'first_name': 'Asabeneh', 'last_name': 'Yetayeh', 'age': 250, 'country': 'Finland', 'skills': ['JavaScript', 'React', 'Node', 'MongoDB', 'Python', 'dondon'], 'address': {'street': 'Space street', 'zipcode': '02210'}}\n"
     ]
    }
   ],
   "source": [
    "# Create an empty dictionary called dog\n",
    "dog={}\n",
    "print(type(dog))\n",
    "# Add name, color, breed, legs, age to the dog dictionary\n",
    "dog['name'] ='mani'\n",
    "dog['color'] ='whitish'\n",
    "dog['breed'] ='human'\n",
    "dog['legs'] ='2'\n",
    "dog['age'] ='5'\n",
    "print(dog)\n",
    "\n",
    "# Create a student dictionary and add first_name, last_name, gender, age, marital status, skills, country, city and address as keys for the dictionary\n",
    "student = {\n",
    "    'first_name':'Asabeneh',\n",
    "    'last_name':'Yetayeh',\n",
    "    'age':250,\n",
    "    'country':'Finland',\n",
    "    'is_marred':True,\n",
    "    'skills':['JavaScript', 'React', 'Node', 'MongoDB', 'Python'],\n",
    "    'address':{\n",
    "        'street':'Space street',\n",
    "        'zipcode':'02210'\n",
    "        }\n",
    "}\n",
    "# Get the length of the student dictionary\n",
    "print('length of student dictionary' , len(student))\n",
    "# Get the value of skills and check the data type, it should be a list\n",
    "print('type of skill is', type(student.get('skills')))\n",
    "# Modify the skills values by adding one or two skills\n",
    "student['skills'].append('dondon')\n",
    "print(student)\n",
    "# Get the dictionary keys as a list\n",
    "student_keys = student.keys()\n",
    "print(student_keys)\n",
    "# Get the dictionary values as a list\n",
    "student_values = student.values()\n",
    "print(student_values)\n",
    "# Change the dictionary to a list of tuples using items() method\n",
    "student_item = student.items()\n",
    "print(student_item)\n",
    "# Delete one of the items in the dictionary\n",
    "student.pop('is_marred')\n",
    "print(student)\n",
    "# Delete one of the dictionaries\n",
    "del dog"
   ]
  },
  {
   "cell_type": "code",
   "execution_count": null,
   "metadata": {},
   "outputs": [],
   "source": []
  }
 ],
 "metadata": {
  "kernelspec": {
   "display_name": "Python 3",
   "language": "python",
   "name": "python3"
  },
  "language_info": {
   "codemirror_mode": {
    "name": "ipython",
    "version": 3
   },
   "file_extension": ".py",
   "mimetype": "text/x-python",
   "name": "python",
   "nbconvert_exporter": "python",
   "pygments_lexer": "ipython3",
   "version": "3.12.4"
  }
 },
 "nbformat": 4,
 "nbformat_minor": 2
}
