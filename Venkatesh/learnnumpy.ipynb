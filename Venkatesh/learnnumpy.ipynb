{
 "cells": [
  {
   "cell_type": "code",
   "execution_count": 1,
   "metadata": {},
   "outputs": [
    {
     "name": "stdout",
     "output_type": "stream",
     "text": [
      "Votes (Array): [ 775  787  918   88  166  286 2556  324  504  402]\n",
      "Costs (Array): [\"'800.0'\" \"'800.0'\" \"'800.0'\" \"'300.0'\" \"'600.0'\" \"'600.0'\" \"'600.0'\"\n",
      " \"'700.0'\" \"'550.0'\" \"'500.0'\"]\n"
     ]
    }
   ],
   "source": [
    "import numpy as np\n",
    "\n",
    "# Extracting numeric data as NumPy arrays for future analysis\n",
    "votes = np.array([ 775,  787,  918,   88,  166,  286, 2556,  324,  504,  402])\n",
    "costs = np.array([\"'800.0'\" ,\"'800.0'\", \"'800.0'\", \"'300.0'\", \"'600.0'\", \"'600.0'\", \"'600.0'\", \"'700.0'\" ,\"'550.0'\", \"'500.0'\"])\n",
    "\n",
    "print(\"Votes (Array):\", votes)\n",
    "print(\"Costs (Array):\", costs)"
   ]
  },
  {
   "cell_type": "code",
   "execution_count": 5,
   "metadata": {},
   "outputs": [
    {
     "name": "stdout",
     "output_type": "stream",
     "text": [
      "(10,)\n",
      "1\n",
      "10\n"
     ]
    }
   ],
   "source": [
    "print(votes.shape)\n",
    "print(votes.ndim)\n",
    "print(votes.size)"
   ]
  },
  {
   "cell_type": "code",
   "execution_count": 7,
   "metadata": {},
   "outputs": [],
   "source": [
    "two_d_array = np.array([votes,costs])"
   ]
  },
  {
   "cell_type": "code",
   "execution_count": 11,
   "metadata": {},
   "outputs": [
    {
     "name": "stdout",
     "output_type": "stream",
     "text": [
      "[['775' '787' '918' '88' '166' '286' '2556' '324' '504' '402']\n",
      " [\"'800.0'\" \"'800.0'\" \"'800.0'\" \"'300.0'\" \"'600.0'\" \"'600.0'\" \"'600.0'\"\n",
      "  \"'700.0'\" \"'550.0'\" \"'500.0'\"]]\n",
      "20\n",
      "2\n",
      "(2, 10)\n"
     ]
    }
   ],
   "source": [
    "print(two_d_array)\n",
    "print(two_d_array.size)\n",
    "print(two_d_array.ndim)\n",
    "print(two_d_array.shape)"
   ]
  },
  {
   "cell_type": "code",
   "execution_count": 12,
   "metadata": {},
   "outputs": [],
   "source": [
    "trans_2d_array = two_d_array.T"
   ]
  },
  {
   "cell_type": "code",
   "execution_count": 14,
   "metadata": {},
   "outputs": [
    {
     "name": "stdout",
     "output_type": "stream",
     "text": [
      "(10, 2)\n"
     ]
    }
   ],
   "source": [
    "print(trans_2d_array.shape)"
   ]
  },
  {
   "cell_type": "code",
   "execution_count": null,
   "metadata": {},
   "outputs": [
    {
     "name": "stdout",
     "output_type": "stream",
     "text": [
      "[1 2 3 4 5 6 7 8]\n",
      "[1 3 5 7]\n"
     ]
    }
   ],
   "source": [
    "print(np.arange(1,9))\n",
    "print(np.arange(1,9,2))\n"
   ]
  },
  {
   "cell_type": "code",
   "execution_count": null,
   "metadata": {},
   "outputs": [
    {
     "name": "stdout",
     "output_type": "stream",
     "text": [
      "[1.  1.5 2.  2.5 3.  3.5 4.  4.5 5.  5.5 6.  6.5 7.  7.5 8.  8.5]\n"
     ]
    }
   ],
   "source": [
    "print(np.arange(1,9,0.5))"
   ]
  },
  {
   "cell_type": "code",
   "execution_count": 22,
   "metadata": {},
   "outputs": [
    {
     "data": {
      "text/plain": [
       "array([\"'800.0'\", \"'800.0'\", \"'800.0'\", \"'300.0'\", \"'600.0'\", \"'600.0'\",\n",
       "       \"'600.0'\", \"'700.0'\", \"'550.0'\", \"'500.0'\"], dtype='<U7')"
      ]
     },
     "execution_count": 22,
     "metadata": {},
     "output_type": "execute_result"
    }
   ],
   "source": [
    "costs"
   ]
  },
  {
   "cell_type": "code",
   "execution_count": 38,
   "metadata": {},
   "outputs": [],
   "source": [
    "new_costs = np.char.replace(costs,\",\",\"\")\n",
    "new_costs1 = np.char.replace(costs,\"'\",\"\")"
   ]
  },
  {
   "cell_type": "code",
   "execution_count": 40,
   "metadata": {},
   "outputs": [
    {
     "name": "stdout",
     "output_type": "stream",
     "text": [
      "['800.0' '800.0' '800.0' '300.0' '600.0' '600.0' '600.0' '700.0' '550.0'\n",
      " '500.0']\n"
     ]
    },
    {
     "data": {
      "text/plain": [
       "dtype('<U7')"
      ]
     },
     "execution_count": 40,
     "metadata": {},
     "output_type": "execute_result"
    }
   ],
   "source": [
    "print(new_costs1)\n",
    "new_costs.dtype"
   ]
  },
  {
   "cell_type": "code",
   "execution_count": 42,
   "metadata": {},
   "outputs": [
    {
     "name": "stdout",
     "output_type": "stream",
     "text": [
      "[\"'800.0'\" \"'800.0'\" \"'800.0'\" \"'300.0'\" \"'600.0'\"]\n"
     ]
    }
   ],
   "source": [
    "print(new_costs[:5])"
   ]
  },
  {
   "cell_type": "code",
   "execution_count": 47,
   "metadata": {},
   "outputs": [
    {
     "name": "stdout",
     "output_type": "stream",
     "text": [
      "[ 775  787  918   88  166  286 2556  324  504  402]\n",
      "[False False False  True  True  True False  True False False]\n",
      "[ 88 166 286 324]\n"
     ]
    }
   ],
   "source": [
    "print(votes)\n",
    "print(votes <325)\n",
    "print(votes[votes < 325])\n"
   ]
  },
  {
   "cell_type": "code",
   "execution_count": 60,
   "metadata": {},
   "outputs": [
    {
     "name": "stdout",
     "output_type": "stream",
     "text": [
      "[['775' '787' '918' '88' '166' '286' '2556' '324' '504' '402']\n",
      " [\"'800.0'\" \"'800.0'\" \"'800.0'\" \"'300.0'\" \"'600.0'\" \"'600.0'\" \"'600.0'\"\n",
      "  \"'700.0'\" \"'550.0'\" \"'500.0'\"]]\n",
      "['787' \"'800.0'\"]\n"
     ]
    }
   ],
   "source": [
    "print(two_d_array)\n",
    "print(two_d_array[:,1])"
   ]
  },
  {
   "cell_type": "code",
   "execution_count": 65,
   "metadata": {},
   "outputs": [
    {
     "name": "stdout",
     "output_type": "stream",
     "text": [
      "2D Array (votes, costs):\n",
      " [[ 775.  800.]\n",
      " [ 787.  800.]\n",
      " [ 918.  800.]\n",
      " [  88.  300.]\n",
      " [ 166.  600.]\n",
      " [ 286.  600.]\n",
      " [2556.  600.]\n",
      " [ 324.  700.]\n",
      " [ 504.  550.]\n",
      " [ 402.  500.]]\n",
      "Shape: (50, 2)\n",
      "Dimensions: 2\n"
     ]
    }
   ],
   "source": [
    "# Take a sample of 50 restaurants\n",
    "sample_votes = np.array([775, 787, 918, 88, 166, 286, 2556, 324, 504, 402, 150, 164, 424, 918, 90, 133, 144, 93, 62, 180, 62, 148, 219, 506, 172, 415, 230, 1647, 4884, 133, 286, 540, 2556, 36, 244, 804, 679, 245, 345, 618, 1047, 627, 354, 244, 163, 808, 1720, 868, 520, 299])\n",
    "sample_costs = np.array([800.0, 800.0, 800.0, 300.0, 600.0, 600.0, 600.0, 700.0, 550.0, 500.0, 600.0, 500.0, 450.0, 800.0, 650.0, 800.0, 700.0, 300.0, 400.0, 500.0, 600.0, 550.0, 600.0, 500.0, 750.0, 500.0, 650.0, 600.0, 750.0, 200.0, 500.0, 800.0, 600.0, 400.0, 300.0, 450.0, 850.0, 300.0, 400.0, 750.0, 450.0, 450.0, 800.0, 800.0, 800.0, 850.0, 400.0, 1200.0, 300.0, 300.0])\n",
    "\n",
    "# Create a 2D array: rows = restaurants, columns = [votes, costs]\n",
    "restaurants_data = np.column_stack((sample_votes, sample_costs))\n",
    "\n",
    "print(\"2D Array (votes, costs):\\n\", restaurants_data[:10,:])\n",
    "print(\"Shape:\", restaurants_data.shape)\n",
    "print(\"Dimensions:\", restaurants_data.ndim)  # 2D"
   ]
  },
  {
   "cell_type": "code",
   "execution_count": 69,
   "metadata": {},
   "outputs": [
    {
     "name": "stdout",
     "output_type": "stream",
     "text": [
      "[[ 775.  800.]\n",
      " [ 787.  800.]\n",
      " [ 918.  800.]\n",
      " [  88.  300.]\n",
      " [ 166.  600.]\n",
      " [ 286.  600.]\n",
      " [2556.  600.]\n",
      " [ 324.  700.]\n",
      " [ 504.  550.]\n",
      " [ 402.  500.]]\n",
      "2\n",
      "20\n"
     ]
    }
   ],
   "source": [
    "rows =restaurants_data[:10,:]\n",
    "print(rows)\n",
    "print(rows.ndim)\n",
    "print(rows.size)"
   ]
  },
  {
   "cell_type": "code",
   "execution_count": 84,
   "metadata": {},
   "outputs": [
    {
     "name": "stdout",
     "output_type": "stream",
     "text": [
      "[[ 775.  800.  787.  800.]\n",
      " [ 918.  800.   88.  300.]\n",
      " [ 166.  600.  286.  600.]\n",
      " [2556.  600.  324.  700.]\n",
      " [ 504.  550.  402.  500.]]\n"
     ]
    }
   ],
   "source": [
    "print(rows.reshape(-1,4))"
   ]
  },
  {
   "cell_type": "code",
   "execution_count": null,
   "metadata": {},
   "outputs": [],
   "source": []
  }
 ],
 "metadata": {
  "kernelspec": {
   "display_name": "Python 3",
   "language": "python",
   "name": "python3"
  },
  "language_info": {
   "codemirror_mode": {
    "name": "ipython",
    "version": 3
   },
   "file_extension": ".py",
   "mimetype": "text/x-python",
   "name": "python",
   "nbconvert_exporter": "python",
   "pygments_lexer": "ipython3",
   "version": "3.12.4"
  }
 },
 "nbformat": 4,
 "nbformat_minor": 2
}
