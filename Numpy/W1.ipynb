{
 "cells": [
  {
   "cell_type": "code",
   "execution_count": 4,
   "metadata": {},
   "outputs": [
    {
     "name": "stdout",
     "output_type": "stream",
     "text": [
      "Original Matrix:\n",
      "[[1 2 3]\n",
      " [4 5 6]\n",
      " [7 8 9]]\n",
      "\n",
      "Rotated Matrix (90° clockwise):\n",
      "[[9 8 7]\n",
      " [6 5 4]\n",
      " [3 2 1]]\n"
     ]
    }
   ],
   "source": [
    "import numpy as np\n",
    "\n",
    "# Example 2D array of size (n, n)\n",
    "n = 3\n",
    "matrix = np.array([[1, 2, 3],\n",
    "                   [4, 5, 6],\n",
    "                   [7, 8, 9]])\n",
    "\n",
    "# Rotate the matrix 90 degrees clockwise\n",
    "rotated_matrix = np.rot90(matrix, 2)\n",
    "\n",
    "print(\"Original Matrix:\")\n",
    "print(matrix)\n",
    "\n",
    "print(\"\\nRotated Matrix (90° clockwise):\")\n",
    "print(rotated_matrix)\n"
   ]
  },
  {
   "cell_type": "code",
   "execution_count": 14,
   "metadata": {},
   "outputs": [
    {
     "name": "stdout",
     "output_type": "stream",
     "text": [
      "[[1 4 7]\n",
      " [2 5 8]\n",
      " [3 6 9]]\n"
     ]
    },
    {
     "ename": "TypeError",
     "evalue": "list indices must be integers or slices, not tuple",
     "output_type": "error",
     "traceback": [
      "\u001b[1;31m---------------------------------------------------------------------------\u001b[0m",
      "\u001b[1;31mTypeError\u001b[0m                                 Traceback (most recent call last)",
      "Cell \u001b[1;32mIn[14], line 8\u001b[0m\n\u001b[0;32m      2\u001b[0m \u001b[38;5;66;03m# Declaring a 2D matrix (3x3 matrix)\u001b[39;00m\n\u001b[0;32m      3\u001b[0m mat \u001b[38;5;241m=\u001b[39m [\n\u001b[0;32m      4\u001b[0m     [\u001b[38;5;241m1\u001b[39m, \u001b[38;5;241m2\u001b[39m, \u001b[38;5;241m3\u001b[39m],\n\u001b[0;32m      5\u001b[0m     [\u001b[38;5;241m4\u001b[39m, \u001b[38;5;241m5\u001b[39m, \u001b[38;5;241m6\u001b[39m],\n\u001b[0;32m      6\u001b[0m     [\u001b[38;5;241m7\u001b[39m, \u001b[38;5;241m8\u001b[39m, \u001b[38;5;241m9\u001b[39m]\n\u001b[0;32m      7\u001b[0m ]\n\u001b[1;32m----> 8\u001b[0m \u001b[43mrotate_img\u001b[49m\u001b[43m(\u001b[49m\u001b[43mmat\u001b[49m\u001b[43m)\u001b[49m\n\u001b[0;32m      9\u001b[0m \u001b[38;5;28;01mdef\u001b[39;00m \u001b[38;5;21mrotate_img\u001b[39m(mat):\n\u001b[0;32m     10\u001b[0m \u001b[38;5;250m    \u001b[39m\u001b[38;5;124;03m'''mat -> A 2d numpy array\u001b[39;00m\n\u001b[0;32m     11\u001b[0m \u001b[38;5;124;03m       output -> A 2d numpy array is expected to be returned'''\u001b[39;00m\n",
      "Cell \u001b[1;32mIn[12], line 18\u001b[0m, in \u001b[0;36mrotate_img\u001b[1;34m(mat)\u001b[0m\n\u001b[0;32m     16\u001b[0m rotated_matrix1 \u001b[38;5;241m=\u001b[39m np\u001b[38;5;241m.\u001b[39marray([row[::\u001b[38;5;241m-\u001b[39m\u001b[38;5;241m1\u001b[39m] \u001b[38;5;28;01mfor\u001b[39;00m row \u001b[38;5;129;01min\u001b[39;00m transposed_mat])\n\u001b[0;32m     17\u001b[0m rotated_matrix2\u001b[38;5;241m=\u001b[39mtransposed_mat[::\u001b[38;5;241m-\u001b[39m\u001b[38;5;241m1\u001b[39m]\n\u001b[1;32m---> 18\u001b[0m rotated_matrix3 \u001b[38;5;241m=\u001b[39m \u001b[43mmat\u001b[49m\u001b[43m[\u001b[49m\u001b[43m:\u001b[49m\u001b[43m:\u001b[49m\u001b[38;5;241;43m-\u001b[39;49m\u001b[38;5;241;43m1\u001b[39;49m\u001b[43m,\u001b[49m\u001b[43m \u001b[49m\u001b[43m:\u001b[49m\u001b[43m:\u001b[49m\u001b[38;5;241;43m-\u001b[39;49m\u001b[38;5;241;43m1\u001b[39;49m\u001b[43m]\u001b[49m\n\u001b[0;32m     19\u001b[0m \u001b[38;5;28mprint\u001b[39m(rotated_matrix1)\n\u001b[0;32m     20\u001b[0m \u001b[38;5;28mprint\u001b[39m(rotated_matrix2)\n",
      "\u001b[1;31mTypeError\u001b[0m: list indices must be integers or slices, not tuple"
     ]
    }
   ],
   "source": [
    "import numpy as np\n",
    "# Declaring a 2D matrix (3x3 matrix)\n",
    "mat = [\n",
    "    [1, 2, 3],\n",
    "    [4, 5, 6],\n",
    "    [7, 8, 9]\n",
    "]\n",
    "rotate_img(mat)\n",
    "def rotate_img(mat):\n",
    "    '''mat -> A 2d numpy array\n",
    "       output -> A 2d numpy array is expected to be returned'''\n",
    "    # Transpose the matrix\n",
    "    transposed_mat = np.array(mat).T\n",
    "    print(transposed_mat)\n",
    "    # Reverse each row\n",
    "    rotated_matrix1 = np.array([row[::-1] for row in transposed_mat])\n",
    "    rotated_matrix2=transposed_mat[::-1]\n",
    "    rotated_matrix3 = mat[::-1, ::-1]\n",
    "    print(rotated_matrix1)\n",
    "    print(rotated_matrix2)\n",
    "    print(rotated_matrix3)\n",
    "    return rotated_matrix3\n",
    "\n",
    "# Declaring a 2D matrix (3x3 matrix)\n",
    "matrix = [\n",
    "    [1, 2, 3],\n",
    "    [4, 5, 6],\n",
    "    [7, 8, 9]\n",
    "]\n",
    "#rotate_img(matrix)"
   ]
  },
  {
   "cell_type": "code",
   "execution_count": 21,
   "metadata": {},
   "outputs": [
    {
     "name": "stdout",
     "output_type": "stream",
     "text": [
      "[[200]\n",
      " [300]\n",
      " [400]]\n",
      "1.0\n",
      "21\n"
     ]
    }
   ],
   "source": [
    "import numpy as np\n",
    "x = np.array([[200,200,200],[300,300,300],[400,400,400]])\n",
    "v = np.array([200,300,400])\n",
    "print(v[:,None])\n",
    "print((x / v[:,None])[1][1]) \n",
    "\n",
    "\n",
    "import numpy as np\n",
    "p = np.array([[0], [10], [20]])\n",
    "q = np.array([10, 11, 12]) \n",
    "print((p + q)[1][1]) "
   ]
  },
  {
   "cell_type": "code",
   "execution_count": 25,
   "metadata": {},
   "outputs": [
    {
     "data": {
      "text/plain": [
       "array([1, 2, 3])"
      ]
     },
     "execution_count": 25,
     "metadata": {},
     "output_type": "execute_result"
    }
   ],
   "source": [
    "np.array([1, 2, 3]).T"
   ]
  },
  {
   "cell_type": "code",
   "execution_count": 26,
   "metadata": {},
   "outputs": [
    {
     "data": {
      "text/plain": [
       "array([[1],\n",
       "       [2],\n",
       "       [3]])"
      ]
     },
     "execution_count": 26,
     "metadata": {},
     "output_type": "execute_result"
    }
   ],
   "source": [
    "B = np.array([1, 2, 3])  # Shape (1, 3)\n",
    "\n",
    "# Transpose B to make it a (3, 1) matrix\n",
    "B = B[:, None]\n",
    "B"
   ]
  },
  {
   "cell_type": "code",
   "execution_count": 27,
   "metadata": {},
   "outputs": [
    {
     "name": "stdout",
     "output_type": "stream",
     "text": [
      "[[16 81 33]\n",
      " [ 5  6  1]]\n",
      "[16 81 33  5  6  1]\n"
     ]
    }
   ],
   "source": [
    "import numpy as np\n",
    "a = np.array([[16, 5], [81, 6], [33, 1]])\n",
    "x=np.transpose(a).reshape(2,3)\n",
    "print(x)\n",
    "print(x.flatten())"
   ]
  },
  {
   "cell_type": "code",
   "execution_count": 29,
   "metadata": {},
   "outputs": [],
   "source": [
    "a = np.array([[1,2,3],[4,5,6],[7,8,9]])"
   ]
  },
  {
   "cell_type": "code",
   "execution_count": null,
   "metadata": {},
   "outputs": [
    {
     "data": {
      "text/plain": [
       "array([[1, 4, 7],\n",
       "       [2, 5, 8],\n",
       "       [3, 6, 9]])"
      ]
     },
     "execution_count": 38,
     "metadata": {},
     "output_type": "execute_result"
    }
   ],
   "source": []
  },
  {
   "cell_type": "code",
   "execution_count": 59,
   "metadata": {},
   "outputs": [
    {
     "name": "stdout",
     "output_type": "stream",
     "text": [
      "[[ 1  4  7 11 44]\n",
      " [ 2  5  8 22 55]\n",
      " [ 3  6  9 33 66]]\n",
      "[[44 11  7  4  1]\n",
      " [55 22  8  5  2]\n",
      " [66 33  9  6  3]]\n"
     ]
    }
   ],
   "source": [
    "a = np.array([[1,2,3],[4,5,6],[7,8,9],[11,22,33],[44,55,66]])\n",
    "\n",
    "b = np.array(a).T\n",
    "\n",
    "print(b)\n",
    "\n",
    "c =np.array([row[::-1] for row in b])\n",
    "\n",
    "print(c)"
   ]
  },
  {
   "cell_type": "code",
   "execution_count": 63,
   "metadata": {},
   "outputs": [
    {
     "name": "stdout",
     "output_type": "stream",
     "text": [
      "[4.1 3.8 4.  2.6 1.1 3.5 4.7 2.5 2.8 3.4]\n",
      "[ 775.  787.  918.   88.  166.  286. 2556.  324.  504.  402.]\n",
      "[ 3177.5  2990.6  3672.    228.8   182.6  1001.  12013.2   810.   1411.2\n",
      "  1366.8]\n"
     ]
    }
   ],
   "source": [
    "numeric_data = np.array([\n",
    "    [4.1, 775.0, 800.0],\n",
    "    [3.8, 787.0, 800.0],\n",
    "    [4.0, 918.0, 800.0],\n",
    "    [2.6, 88.0, 300.0],\n",
    "    [1.1, 166.0, 600.0],\n",
    "    [3.5, 286.0, 600.0],\n",
    "    [4.7, 2556.0, 600.0],\n",
    "    [2.5, 324.0, 700.0],\n",
    "    [2.8, 504.0, 550.0],\n",
    "    [3.4, 402.0, 500.0]\n",
    "])\n",
    "\n",
    "ratings = numeric_data[:, 0]  # Extract 'rate' column\n",
    "votes=numeric_data[:,1]\n",
    "print(ratings)\n",
    "print(votes)\n",
    "print(ratings*votes)"
   ]
  },
  {
   "cell_type": "code",
   "execution_count": 64,
   "metadata": {},
   "outputs": [
    {
     "name": "stdout",
     "output_type": "stream",
     "text": [
      "[[ 952.42 1645.78 2217.05]\n",
      " [ 958.06 1663.54 2228.9 ]\n",
      " [1023.8  1860.2  2360.  ]\n",
      " [ 257.12  314.08  629.3 ]\n",
      " [ 504.32  609.88 1246.55]\n",
      " [ 567.2   791.8  1367.75]\n",
      " [1703.64 4197.76 3638.35]\n",
      " [ 655.    908.   1585.25]\n",
      " [ 640.36 1088.24 1495.4 ]\n",
      " [ 555.08  905.72 1303.7 ]]\n"
     ]
    }
   ],
   "source": [
    "numeric_data = np.array([\n",
    "    [4.1, 775.0, 800.0],\n",
    "    [3.8, 787.0, 800.0],\n",
    "    [4.0, 918.0, 800.0],\n",
    "    [2.6, 88.0, 300.0],\n",
    "    [1.1, 166.0, 600.0],\n",
    "    [3.5, 286.0, 600.0],\n",
    "    [4.7, 2556.0, 600.0],\n",
    "    [2.5, 324.0, 700.0],\n",
    "    [2.8, 504.0, 550.0],\n",
    "    [3.4, 402.0, 500.0]\n",
    "])\n",
    "\n",
    "# Create a random transformation matrix\n",
    "transformation_matrix = np.array([[1.2, 0.8, 0.5],\n",
    "                                   [0.5, 1.5, 1.0],\n",
    "                                   [0.7, 0.6, 1.8]])\n",
    "\n",
    "# Matrix multiplication using np.dot()\n",
    "transformed_data_dot = np.dot(numeric_data, transformation_matrix)\n",
    "\n",
    "print(transformed_data_dot)"
   ]
  },
  {
   "cell_type": "code",
   "execution_count": 66,
   "metadata": {},
   "outputs": [
    {
     "name": "stdout",
     "output_type": "stream",
     "text": [
      "['Astha' 'Raghavendra' 'Ram']\n",
      "[False False False]\n"
     ]
    }
   ],
   "source": [
    "import numpy as np\n",
    "print(np.sort(np.array(['Ram','Astha','Raghavendra'])))\n",
    "\n",
    "arr1 = np.array(['Ram','Astha','Brahat'])\n",
    "arr2 = np.array(['Shyam','Kalyan','Naveen'])\n",
    "print(arr1 > arr2)"
   ]
  },
  {
   "cell_type": "code",
   "execution_count": 18,
   "metadata": {},
   "outputs": [
    {
     "name": "stdout",
     "output_type": "stream",
     "text": [
      "[[6, 8, 7], [28, 56, 19]]\n"
     ]
    }
   ],
   "source": [
    "import numpy as np\n",
    "a = np.array([[6, 28], [8, 56], [7, 19]])\n",
    "x = np.transpose(a)\n",
    "print(x.tolist())"
   ]
  },
  {
   "cell_type": "code",
   "execution_count": 70,
   "metadata": {},
   "outputs": [
    {
     "name": "stdout",
     "output_type": "stream",
     "text": [
      "(3, 4)\n",
      "(3, 4)\n"
     ]
    },
    {
     "ename": "ValueError",
     "evalue": "all the input arrays must have same number of dimensions, but the array at index 0 has 2 dimension(s) and the array at index 1 has 1 dimension(s)",
     "output_type": "error",
     "traceback": [
      "\u001b[1;31m---------------------------------------------------------------------------\u001b[0m",
      "\u001b[1;31mValueError\u001b[0m                                Traceback (most recent call last)",
      "Cell \u001b[1;32mIn[70], line 9\u001b[0m\n\u001b[0;32m      7\u001b[0m \u001b[38;5;28mprint\u001b[39m(np\u001b[38;5;241m.\u001b[39mhstack((arr, arr[:, [\u001b[38;5;241m0\u001b[39m]]))\u001b[38;5;241m.\u001b[39mshape)\n\u001b[0;32m      8\u001b[0m \u001b[38;5;28mprint\u001b[39m(np\u001b[38;5;241m.\u001b[39mhstack((arr, arr[:, [\u001b[38;5;241m0\u001b[39m]]))\u001b[38;5;241m.\u001b[39mshape)\n\u001b[1;32m----> 9\u001b[0m \u001b[38;5;28mprint\u001b[39m(\u001b[43mnp\u001b[49m\u001b[38;5;241;43m.\u001b[39;49m\u001b[43mhstack\u001b[49m\u001b[43m(\u001b[49m\u001b[43m(\u001b[49m\u001b[43marr\u001b[49m\u001b[43m,\u001b[49m\u001b[43marr\u001b[49m\u001b[43m[\u001b[49m\u001b[43m:\u001b[49m\u001b[43m,\u001b[49m\u001b[43m \u001b[49m\u001b[38;5;241;43m0\u001b[39;49m\u001b[43m]\u001b[49m\u001b[43m)\u001b[49m\u001b[43m)\u001b[49m )\n",
      "File \u001b[1;32mc:\\Users\\Venkatesh Kumar\\AppData\\Local\\Programs\\Python\\Python312\\Lib\\site-packages\\numpy\\_core\\shape_base.py:358\u001b[0m, in \u001b[0;36mhstack\u001b[1;34m(tup, dtype, casting)\u001b[0m\n\u001b[0;32m    356\u001b[0m     \u001b[38;5;28;01mreturn\u001b[39;00m _nx\u001b[38;5;241m.\u001b[39mconcatenate(arrs, \u001b[38;5;241m0\u001b[39m, dtype\u001b[38;5;241m=\u001b[39mdtype, casting\u001b[38;5;241m=\u001b[39mcasting)\n\u001b[0;32m    357\u001b[0m \u001b[38;5;28;01melse\u001b[39;00m:\n\u001b[1;32m--> 358\u001b[0m     \u001b[38;5;28;01mreturn\u001b[39;00m \u001b[43m_nx\u001b[49m\u001b[38;5;241;43m.\u001b[39;49m\u001b[43mconcatenate\u001b[49m\u001b[43m(\u001b[49m\u001b[43marrs\u001b[49m\u001b[43m,\u001b[49m\u001b[43m \u001b[49m\u001b[38;5;241;43m1\u001b[39;49m\u001b[43m,\u001b[49m\u001b[43m \u001b[49m\u001b[43mdtype\u001b[49m\u001b[38;5;241;43m=\u001b[39;49m\u001b[43mdtype\u001b[49m\u001b[43m,\u001b[49m\u001b[43m \u001b[49m\u001b[43mcasting\u001b[49m\u001b[38;5;241;43m=\u001b[39;49m\u001b[43mcasting\u001b[49m\u001b[43m)\u001b[49m\n",
      "\u001b[1;31mValueError\u001b[0m: all the input arrays must have same number of dimensions, but the array at index 0 has 2 dimension(s) and the array at index 1 has 1 dimension(s)"
     ]
    }
   ],
   "source": [
    "import numpy as np\n",
    "arr = np.array([[1,2,3],\n",
    "               [4,5,6],\n",
    "               [7,8,9]])\n",
    "\n",
    "#print(np.hstack((arr, arr[:, 0])).shape)\n",
    "print(np.hstack((arr, arr[:, [0]])).shape)\n",
    "print(np.hstack((arr, arr[:, [0]])).shape)\n",
    "print(np.hstack((arr,arr[:, 0])) )"
   ]
  },
  {
   "cell_type": "code",
   "execution_count": 71,
   "metadata": {},
   "outputs": [
    {
     "name": "stdout",
     "output_type": "stream",
     "text": [
      "[0. 0. 0. 0. 0. 0.]\n"
     ]
    }
   ],
   "source": [
    "arr1 = np.array([1,2,3,6,3,2]) \n",
    "arr2 = np.array([4,2,1,3,3,2]) \n",
    "arr3 = np.zeros(len(arr1)) \n",
    "print(arr3)"
   ]
  },
  {
   "cell_type": "code",
   "execution_count": 1,
   "metadata": {},
   "outputs": [
    {
     "name": "stdout",
     "output_type": "stream",
     "text": [
      "['Astha' 'Raghavendra' 'Ram']\n"
     ]
    }
   ],
   "source": [
    "import numpy as np\n",
    "print(np.sort(np.array(['Ram','Astha','Raghavendra'])))"
   ]
  },
  {
   "cell_type": "code",
   "execution_count": 2,
   "metadata": {},
   "outputs": [
    {
     "name": "stdout",
     "output_type": "stream",
     "text": [
      "['Astha' 'Raghavendra' 'Ram']\n"
     ]
    }
   ],
   "source": [
    "\n",
    "#a. What is the last element of the output?\n",
    "\n",
    "import numpy as np\n",
    "print(np.sort(np.array(['Ram','Astha','Raghavendra'])))\n"
   ]
  },
  {
   "cell_type": "code",
   "execution_count": 3,
   "metadata": {},
   "outputs": [
    {
     "data": {
      "text/plain": [
       "array([False, False, False])"
      ]
     },
     "execution_count": 3,
     "metadata": {},
     "output_type": "execute_result"
    }
   ],
   "source": [
    "#b. What is the output of the code snippet given below?\n",
    "\n",
    "arr1 = np.array(['Ram','Astha','Brahat'])\n",
    "arr2 = np.array(['Shyam','Kalyan','Naveen'])\n",
    "arr1 > arr2"
   ]
  },
  {
   "cell_type": "code",
   "execution_count": null,
   "metadata": {},
   "outputs": [
    {
     "name": "stdout",
     "output_type": "stream",
     "text": [
      "(3, 4)\n",
      "(3, 4)\n"
     ]
    }
   ],
   "source": [
    "import numpy as np\n",
    "arr = np.array([[1,2,3],\n",
    "               [4,5,6],\n",
    "               [7,8,9]])\n",
    "\n",
    "#an1 = np.hstack((arr, arr[:, 0])).shape #= (3, 4) --error\n",
    "\n",
    "\n",
    "an2 = np.hstack((arr, arr[:, [0]])).shape #= (3, 4)\n",
    "\n",
    "\n",
    "an3 = np.hstack((arr, arr[:, [0]])).shape #(4, 3)\n",
    "\n",
    "\n",
    "#an4 = np.hstack((arr,arr[:, 0])) #=> Throws Error\n",
    "\n",
    "#print(an1)\n",
    "\n",
    "print(an2)\n",
    "\n",
    "print(an3)\n",
    "\n",
    "#print(an4)"
   ]
  },
  {
   "cell_type": "code",
   "execution_count": 14,
   "metadata": {},
   "outputs": [
    {
     "name": "stdout",
     "output_type": "stream",
     "text": [
      "[1 4 7]\n",
      "[[1]\n",
      " [4]\n",
      " [7]]\n"
     ]
    }
   ],
   "source": [
    "arr = np.array([[1,2,3],\n",
    "               [4,5,6],\n",
    "               [7,8,9]])\n",
    "print(arr[:,0])\n",
    "print(arr[:,[0]])"
   ]
  },
  {
   "cell_type": "code",
   "execution_count": 15,
   "metadata": {},
   "outputs": [
    {
     "data": {
      "text/plain": [
       "array([[ 4,  6,  8, 10],\n",
       "       [ 2, 14,  6, 10],\n",
       "       [ 4, 16, 12, 18],\n",
       "       [22, 46, 24, 38]])"
      ]
     },
     "execution_count": 15,
     "metadata": {},
     "output_type": "execute_result"
    }
   ],
   "source": [
    "import numpy as np\n",
    "arr= np.array([[2,3,4,5],[1,7,3,5],[2,8,6,9],[11,23,12,19]])\n",
    "arr1 = np.array([[2,2,2,2]])\n",
    "def func(x, y):\n",
    "    return x * y\n",
    "vec = np.vectorize(func)\n",
    "vec(arr,arr1)"
   ]
  },
  {
   "cell_type": "code",
   "execution_count": 16,
   "metadata": {},
   "outputs": [
    {
     "data": {
      "text/plain": [
       "array([[ 4,  6,  8, 10],\n",
       "       [ 2, 14,  6, 10],\n",
       "       [ 4, 16, 12, 18],\n",
       "       [22, 46, 24, 38]])"
      ]
     },
     "execution_count": 16,
     "metadata": {},
     "output_type": "execute_result"
    }
   ],
   "source": [
    "import numpy as np\n",
    "arr= np.array([[2,3,4,5],[1,7,3,5],[2,8,6,9],[11,23,12,19]])\n",
    "arr1 = np.array([[2],[2],[2],[2]])\n",
    "def func(x, y):\n",
    "    return x * y\n",
    "vec = np.vectorize(func)\n",
    "vec(arr, arr1)"
   ]
  },
  {
   "cell_type": "code",
   "execution_count": 17,
   "metadata": {},
   "outputs": [
    {
     "data": {
      "text/plain": [
       "array([[ 4,  6,  8, 10],\n",
       "       [ 2, 14,  6, 10],\n",
       "       [ 4, 16, 12, 18],\n",
       "       [22, 46, 24, 38]])"
      ]
     },
     "execution_count": 17,
     "metadata": {},
     "output_type": "execute_result"
    }
   ],
   "source": [
    "import numpy as np\n",
    "arr= np.array([[2,3,4,5],[1,7,3,5],[2,8,6,9],[11,23,12,19]])\n",
    "arr1 = 2\n",
    "def func(x, y):\n",
    "    return x * y\n",
    "vec = np.vectorize(func)\n",
    "vec(arr, arr1)"
   ]
  },
  {
   "cell_type": "code",
   "execution_count": 22,
   "metadata": {},
   "outputs": [
    {
     "name": "stdout",
     "output_type": "stream",
     "text": [
      "7\n",
      "parrot\n"
     ]
    }
   ],
   "source": [
    "import numpy as np\n",
    "bird = ['sparrow', 'peacock', 'parrot', 'owl', 'peacock', 'macaw', 'macaw', 'parrot', 'macaw', 'peacock']  \n",
    "age = [6, 1, 6, 5, 7, 6, 0, 9, 0, 7]\n",
    "# Find the index of the maximum age\n",
    "max_age_index = np.argmax(age)\n",
    "\n",
    "# Get the bird at the index of the maximum age\n",
    "old_bird = bird[max_age_index]\n",
    "\n",
    "\n",
    "print(max_age_index)\n",
    "print(old_bird)\n",
    "    "
   ]
  },
  {
   "cell_type": "code",
   "execution_count": 27,
   "metadata": {},
   "outputs": [
    {
     "ename": "IndexError",
     "evalue": "list index out of range",
     "output_type": "error",
     "traceback": [
      "\u001b[1;31m---------------------------------------------------------------------------\u001b[0m",
      "\u001b[1;31mIndexError\u001b[0m                                Traceback (most recent call last)",
      "Cell \u001b[1;32mIn[27], line 36\u001b[0m\n\u001b[0;32m     33\u001b[0m c1 \u001b[38;5;241m=\u001b[39m \u001b[38;5;241m2\u001b[39m \n\u001b[0;32m     34\u001b[0m c2 \u001b[38;5;241m=\u001b[39m \u001b[38;5;241m4\u001b[39m\n\u001b[1;32m---> 36\u001b[0m \u001b[38;5;28mprint\u001b[39m(\u001b[43mspecific_elements\u001b[49m\u001b[43m(\u001b[49m\u001b[43mmat1\u001b[49m\u001b[43m,\u001b[49m\u001b[43mmat2\u001b[49m\u001b[43m,\u001b[49m\u001b[43mr1\u001b[49m\u001b[43m,\u001b[49m\u001b[43mr2\u001b[49m\u001b[43m,\u001b[49m\u001b[43mc1\u001b[49m\u001b[43m,\u001b[49m\u001b[43mc2\u001b[49m\u001b[43m)\u001b[49m)\n",
      "Cell \u001b[1;32mIn[27], line 18\u001b[0m, in \u001b[0;36mspecific_elements\u001b[1;34m(mat1, mat2, r1, r2, c1, c2)\u001b[0m\n\u001b[0;32m     13\u001b[0m matmul_array \u001b[38;5;241m=\u001b[39m np\u001b[38;5;241m.\u001b[39mmatmul(mat1,mat2)\n\u001b[0;32m     16\u001b[0m \u001b[38;5;66;03m## STEP 3 slice the array based on range value\u001b[39;00m\n\u001b[1;32m---> 18\u001b[0m result \u001b[38;5;241m=\u001b[39m matmul_array[[r1]:[r2],\u001b[43m[\u001b[49m\u001b[43mc1\u001b[49m\u001b[43m]\u001b[49m\u001b[43m[\u001b[49m\u001b[43mc2\u001b[49m\u001b[43m]\u001b[49m]\n\u001b[0;32m     20\u001b[0m \u001b[38;5;28;01mreturn\u001b[39;00m result\n",
      "\u001b[1;31mIndexError\u001b[0m: list index out of range"
     ]
    }
   ],
   "source": [
    "import numpy as np\n",
    "def specific_elements(mat1,mat2,r1,r2,c1,c2):\n",
    "    '''mat1,mat2 are the two 2d numpy array.\n",
    "       r1,r2 are the start and end of rows indices\n",
    "       c1,c2 are the start and end of columns indices\n",
    "       Output = Return a numpy array according to indices'''\n",
    "    \n",
    "    # STEP1 CHECK whether matrix multiplication is possible\n",
    "    \n",
    "    \n",
    "    ## STEP 2 Perform matrix multiplication\n",
    "    \n",
    "    matmul_array = np.matmul(mat1,mat2)\n",
    "\n",
    "    \n",
    "    ## STEP 3 slice the array based on range value\n",
    "    \n",
    "    result = matmul_array[[r1]:[r2],[c1][c2]]\n",
    "    \n",
    "    return result\n",
    "\n",
    "mat1 = [[6, 6 ,4, 7 ,9],  \n",
    " [0, 2 ,2 ,9, 3]  ,\n",
    " [6, 0 ,2 ,5, 2] , \n",
    " [2, 4 ,3 ,5, 5]]  \n",
    "mat2 = [[8, 6 ,6, 8, 3]  ,\n",
    " [2, 7, 0, 3, 1]  ,\n",
    " [3, 2, 1, 5, 2]  ,\n",
    " [7, 0, 7, 6, 8]  ,\n",
    " [1 ,5 ,6 ,4 ,5]]  \n",
    "r1 = 1 \n",
    "r2 = 3  \n",
    "c1 = 2 \n",
    "c2 = 4\n",
    "\n",
    "print(specific_elements(mat1,mat2,r1,r2,c1,c2))"
   ]
  },
  {
   "cell_type": "code",
   "execution_count": 3,
   "metadata": {},
   "outputs": [
    {
     "name": "stdout",
     "output_type": "stream",
     "text": [
      "[[83 82]\n",
      " [85 96]]\n",
      "4\n"
     ]
    }
   ],
   "source": [
    "import numpy as np\n",
    "\n",
    "def specific_elements(mat1, mat2, r1, r2, c1, c2):\n",
    "    '''mat1, mat2 are the two 2d numpy arrays.\n",
    "       r1, r2 are the start and end of rows indices\n",
    "       c1, c2 are the start and end of columns indices\n",
    "       Output = Return a numpy array according to indices'''\n",
    "\n",
    "    # STEP 1: Check whether matrix multiplication is possible\n",
    "    if mat1.shape[1] != mat2.shape[0]:\n",
    "        raise ValueError(\"Matrix multiplication is not possible. Columns of mat1 must equal rows of mat2.\")\n",
    "    \n",
    "    # STEP 2: Perform matrix multiplication\n",
    "    matmul_array = np.matmul(mat1, mat2)\n",
    "\n",
    "    # STEP 3: Slice the array based on range values\n",
    "    result = matmul_array[r1:r2, c1:c2]\n",
    "    \n",
    "    return result\n",
    "\n",
    "# Define matrices as numpy arrays\n",
    "mat1 = np.array([[6, 6 ,4, 7 ,9],  \n",
    "                 [0, 2 ,2 ,9, 3],\n",
    "                 [6, 0 ,2 ,5, 2], \n",
    "                 [2, 4 ,3 ,5, 5]])  \n",
    "\n",
    "mat2 = np.array([[8, 6 ,6, 8, 3],  \n",
    "                 [2, 7, 0, 3, 1],\n",
    "                 [3, 2, 1, 5, 2],\n",
    "                 [7, 0, 7, 6, 8],\n",
    "                 [1 ,5 ,6 ,4 ,5]])\n",
    "\n",
    "r1 = 1 \n",
    "r2 = 3  \n",
    "c1 = 2 \n",
    "c2 = 4\n",
    "\n",
    "print(specific_elements(mat1, mat2, r1, r2, c1, c2))\n",
    "print(mat1.shape[0])\n"
   ]
  },
  {
   "cell_type": "code",
   "execution_count": 29,
   "metadata": {},
   "outputs": [],
   "source": [
    "import numpy as np\n",
    "def add_padding(mat):\n",
    "    '''mat-> NumPy array\n",
    "       output-> NumPy array is expected to be returned'''\n",
    "\n",
    "    # YOUR CODE GOES HERE\n",
    "    # Read input\n",
    "    n, m = map(int, input().split())  # First line input for n and m\n",
    "    arr = np.array([list(map(int, input().split())) for _ in range(n)])  # Next n lines for array elements\n",
    "\n",
    "    # Create a new array with padding\n",
    "    res = np.zeros((n+2, m+2), dtype=int)  # Create a (n+2) x (m+2) array of zeros\n",
    "\n",
    "    # Fill the inner part with the original array's values\n",
    "    res[1:n+1, 1:m+1] = arr\n",
    "      \n",
    "    return res"
   ]
  },
  {
   "cell_type": "code",
   "execution_count": null,
   "metadata": {},
   "outputs": [
    {
     "ename": "AttributeError",
     "evalue": "'list' object has no attribute 'tolist'",
     "output_type": "error",
     "traceback": [
      "\u001b[1;31m---------------------------------------------------------------------------\u001b[0m",
      "\u001b[1;31mAttributeError\u001b[0m                            Traceback (most recent call last)",
      "Cell \u001b[1;32mIn[8], line 7\u001b[0m\n\u001b[0;32m      1\u001b[0m data \u001b[38;5;241m=\u001b[39m np\u001b[38;5;241m.\u001b[39marray([[\u001b[38;5;241m10\u001b[39m, \u001b[38;5;241m20\u001b[39m, \u001b[38;5;241m30\u001b[39m],\n\u001b[0;32m      2\u001b[0m                  [\u001b[38;5;241m40\u001b[39m, \u001b[38;5;241m50\u001b[39m, \u001b[38;5;241m60\u001b[39m],\n\u001b[0;32m      3\u001b[0m                  [\u001b[38;5;241m70\u001b[39m, \u001b[38;5;241m80\u001b[39m, \u001b[38;5;241m90\u001b[39m],\n\u001b[0;32m      4\u001b[0m                  [\u001b[38;5;241m100\u001b[39m, \u001b[38;5;241m110\u001b[39m, \u001b[38;5;241m120\u001b[39m]])\n\u001b[0;32m      6\u001b[0m num_splits \u001b[38;5;241m=\u001b[39m \u001b[38;5;241m2\u001b[39m\n\u001b[1;32m----> 7\u001b[0m arr1 \u001b[38;5;241m=\u001b[39m \u001b[43mnp\u001b[49m\u001b[38;5;241;43m.\u001b[39;49m\u001b[43mvsplit\u001b[49m\u001b[43m(\u001b[49m\u001b[43mdata\u001b[49m\u001b[43m,\u001b[49m\u001b[43m \u001b[49m\u001b[43mnum_splits\u001b[49m\u001b[43m)\u001b[49m\u001b[38;5;241;43m.\u001b[39;49m\u001b[43mtolist\u001b[49m()\n\u001b[0;32m      9\u001b[0m \u001b[38;5;66;03m#print(np.vsplit(data, num_splits))\u001b[39;00m\n\u001b[0;32m     11\u001b[0m \u001b[38;5;28mprint\u001b[39m(arr1\u001b[38;5;241m.\u001b[39mshape)\n",
      "\u001b[1;31mAttributeError\u001b[0m: 'list' object has no attribute 'tolist'"
     ]
    }
   ],
   "source": [
    "data = np.array([[10, 20, 30],\n",
    "                 [40, 50, 60],\n",
    "                 [70, 80, 90],\n",
    "                 [100, 110, 120]])\n",
    "\n",
    "num_splits = 2\n",
    "arr1 = np.vsplit(data, num_splits).tolist()\n",
    "\n",
    "#print(np.vsplit(data, num_splits))\n",
    "\n",
    "print(arr1.shape)\n",
    "\n"
   ]
  },
  {
   "cell_type": "code",
   "execution_count": 10,
   "metadata": {},
   "outputs": [
    {
     "name": "stdout",
     "output_type": "stream",
     "text": [
      "[array([[10, 20, 30],\n",
      "       [40, 50, 60]]), array([[ 70,  80,  90],\n",
      "       [100, 110, 120]])]\n",
      "[[ 70  80  90]\n",
      " [100 110 120]\n",
      " [ 10  20  30]\n",
      " [ 40  50  60]]\n"
     ]
    }
   ],
   "source": [
    "import numpy as np\n",
    "\n",
    "def custom_split(data, num_splits):\n",
    "    # Step 1: Split the data array vertically into num_splits parts\n",
    "    split_data = np.vsplit(data, num_splits)\n",
    "    print(split_data)\n",
    "    # Step 2: Reorder the split arrays\n",
    "    # Move the last subarray to the front and the others follow\n",
    "    ordered_data = np.vstack((split_data[-1], split_data[0], *split_data[1:-1]))\n",
    "    \n",
    "    return ordered_data\n",
    "\n",
    "# Sample input\n",
    "data = np.array([[10, 20, 30],\n",
    "                 [40, 50, 60],\n",
    "                 [70, 80, 90],\n",
    "                 [100, 110, 120]])\n",
    "\n",
    "num_splits = 2\n",
    "\n",
    "# Get the custom split and ordered result\n",
    "result = custom_split(data, num_splits)\n",
    "\n",
    "# Output the result\n",
    "print(result)\n"
   ]
  },
  {
   "cell_type": "code",
   "execution_count": null,
   "metadata": {},
   "outputs": [],
   "source": []
  }
 ],
 "metadata": {
  "kernelspec": {
   "display_name": "Python 3",
   "language": "python",
   "name": "python3"
  },
  "language_info": {
   "codemirror_mode": {
    "name": "ipython",
    "version": 3
   },
   "file_extension": ".py",
   "mimetype": "text/x-python",
   "name": "python",
   "nbconvert_exporter": "python",
   "pygments_lexer": "ipython3",
   "version": "3.12.4"
  }
 },
 "nbformat": 4,
 "nbformat_minor": 2
}
